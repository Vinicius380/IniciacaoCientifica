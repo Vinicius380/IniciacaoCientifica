{
 "cells": [
  {
   "cell_type": "code",
   "execution_count": 1,
   "metadata": {},
   "outputs": [],
   "source": [
    "import pandas as pd"
   ]
  },
  {
   "cell_type": "code",
   "execution_count": 8,
   "metadata": {},
   "outputs": [
    {
     "name": "stdout",
     "output_type": "stream",
     "text": [
      "Dados extraídos e salvos em Dados_CO_SP.csv\n"
     ]
    }
   ],
   "source": [
    "import pdfplumber\n",
    "import csv\n",
    "\n",
    "# Caminho para o PDF\n",
    "pdf_path = r\"C:\\Users\\wever\\Documents\\GitHub\\IniciacaoCientifica1\\Dados\\Dados_CO_SP.pdf\"\n",
    "#csv_path = \"Dados_CO_SP.csv\"\n",
    "\n",
    "# Inicializar lista para armazenar os dados\n",
    "data_rows = []\n",
    "\n",
    "# Função para processar o texto extraído de uma página\n",
    "def process_text(text):\n",
    "    lines = text.split('\\n')\n",
    "    for line in lines:\n",
    "        # Dividir os campos com base nos espaços\n",
    "        if line.startswith(\"Automático\"):\n",
    "            parts = line.split()\n",
    "            # Limpar e reestruturar a linha\n",
    "            tipo, rede, monitoramento, data, hora, codigo, *local_param = parts\n",
    "            local = \" \".join(local_param[:-3])  # Nome da estação\n",
    "            parametro = local_param[-3] + \" \" + local_param[-2]  # Parâmetro\n",
    "            unidade = local_param[-1]  # Unidade\n",
    "            media_horaria = parts[-1]  # Valor da média horária\n",
    "            # Adicionar os dados em formato estruturado\n",
    "            data_rows.append([tipo, rede, monitoramento, data, hora, codigo, local, parametro, unidade, media_horaria])\n",
    "\n",
    "# Extrair o texto do PDF\n",
    "with pdfplumber.open(pdf_path) as pdf:\n",
    "    for page in pdf.pages:\n",
    "        text = page.extract_text()\n",
    "        process_text(text)\n",
    "\n",
    "# Salvar os dados em CSV\n",
    "header = [\"Tipo de Rede\", \"Tipo de Monitoramento\", \"Tipo\", \"Data\", \"Hora\", \"Código Estação\", \"Nome Estação\", \"Nome Parâmetro\", \"Unidade de Medida\", \"Média Horária\"]\n",
    "with open(csv_path, mode='w', newline='', encoding='utf-8') as file:\n",
    "    writer = csv.writer(file)\n",
    "    writer.writerow(header)\n",
    "    writer.writerows(data_rows)\n",
    "\n",
    "print(f\"Dados extraídos e salvos em {csv_path}\")"
   ]
  },
  {
   "cell_type": "code",
   "execution_count": 5,
   "metadata": {},
   "outputs": [],
   "source": [
    "data = pd.read_csv(r\"C:\\Users\\wever\\Documents\\GitHub\\IniciacaoCientifica1\\Dados\\dataSet_CO_Brasil.csv\", comment='#', sep=',')"
   ]
  },
  {
   "cell_type": "code",
   "execution_count": 6,
   "metadata": {},
   "outputs": [
    {
     "name": "stdout",
     "output_type": "stream",
     "text": [
      "<class 'pandas.core.frame.DataFrame'>\n",
      "RangeIndex: 1876432 entries, 0 to 1876431\n",
      "Data columns (total 9 columns):\n",
      " #   Column    Dtype  \n",
      "---  ------    -----  \n",
      " 0   Date      object \n",
      " 1   Country   object \n",
      " 2   City      object \n",
      " 3   Specie    object \n",
      " 4   count     int64  \n",
      " 5   min       float64\n",
      " 6   max       float64\n",
      " 7   median    float64\n",
      " 8   variance  float64\n",
      "dtypes: float64(4), int64(1), object(4)\n",
      "memory usage: 128.8+ MB\n"
     ]
    }
   ],
   "source": [
    "data.info()"
   ]
  },
  {
   "cell_type": "code",
   "execution_count": 7,
   "metadata": {},
   "outputs": [],
   "source": [
    "brasil_data = data[data['Country'] == 'BR']"
   ]
  },
  {
   "cell_type": "code",
   "execution_count": 8,
   "metadata": {},
   "outputs": [
    {
     "name": "stdout",
     "output_type": "stream",
     "text": [
      "               Date Country                 City       Specie  count   min  \\\n",
      "1633057  2024-10-24      BR  São José dos Campos  temperature     96  21.0   \n",
      "1633058  2024-02-09      BR  São José dos Campos  temperature     96  20.0   \n",
      "1633059  2024-04-07      BR  São José dos Campos  temperature     96   0.0   \n",
      "1633060  2024-04-30      BR  São José dos Campos  temperature     78   0.0   \n",
      "1633061  2024-06-15      BR  São José dos Campos  temperature     81  12.0   \n",
      "\n",
      "          max  median  variance  \n",
      "1633057  30.0    22.0     94.87  \n",
      "1633058  32.0    24.0    149.58  \n",
      "1633059   0.0     0.0      0.00  \n",
      "1633060  32.0    22.0   1575.18  \n",
      "1633061  28.0    22.0    288.10  \n"
     ]
    }
   ],
   "source": [
    "print(brasil_data.head())\n"
   ]
  },
  {
   "cell_type": "code",
   "execution_count": null,
   "metadata": {},
   "outputs": [],
   "source": [
    "#brasil_data.to_csv(\"dados_brasil.csv\", index=False)"
   ]
  },
  {
   "cell_type": "code",
   "execution_count": 14,
   "metadata": {},
   "outputs": [
    {
     "name": "stderr",
     "output_type": "stream",
     "text": [
      "C:\\Users\\wever\\AppData\\Local\\Temp\\ipykernel_11820\\258455653.py:1: DtypeWarning: Columns (12,31,33,34,37,57,61,62) have mixed types. Specify dtype option on import or set low_memory=False.\n",
      "  dataSaude = pd.read_csv(r\"C:\\Users\\wever\\Documents\\GitHub\\IniciacaoCientifica1\\Dados\\dataSet_Saude.csv\", sep=';')\n"
     ]
    }
   ],
   "source": [
    "dataSaude = pd.read_csv(r\"C:\\Users\\wever\\Documents\\GitHub\\IniciacaoCientifica1\\Dados\\dataSet_Saude.csv\", sep=';')"
   ]
  },
  {
   "cell_type": "code",
   "execution_count": null,
   "metadata": {},
   "outputs": [],
   "source": [
    "dataSaudeSP = dataSaude[dataSaude[\"municipio\"] == \"São Paulo\"]"
   ]
  },
  {
   "cell_type": "code",
   "execution_count": null,
   "metadata": {},
   "outputs": [],
   "source": [
    "#dataSaudeSP.to_csv(\"dados_saude_SP.csv\", index=False)\n"
   ]
  }
 ],
 "metadata": {
  "kernelspec": {
   "display_name": "Python 3",
   "language": "python",
   "name": "python3"
  },
  "language_info": {
   "codemirror_mode": {
    "name": "ipython",
    "version": 3
   },
   "file_extension": ".py",
   "mimetype": "text/x-python",
   "name": "python",
   "nbconvert_exporter": "python",
   "pygments_lexer": "ipython3",
   "version": "3.12.7"
  }
 },
 "nbformat": 4,
 "nbformat_minor": 2
}
